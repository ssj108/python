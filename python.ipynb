{
  "nbformat": 4,
  "nbformat_minor": 0,
  "metadata": {
    "colab": {
      "provenance": []
    },
    "kernelspec": {
      "name": "python3",
      "display_name": "Python 3"
    },
    "language_info": {
      "name": "python"
    }
  },
  "cells": [
    {
      "cell_type": "code",
      "execution_count": null,
      "metadata": {
        "id": "fgf511Nqj4TH"
      },
      "outputs": [],
      "source": []
    },
    {
      "cell_type": "markdown",
      "source": [
        "#python\n",
        "   1.Explain the key features of Python that make it a popular choice for programming\n",
        "\n",
        "   - Python is one of the most popular programming languages today because of the following features\n",
        "\n",
        "Readable and Clean Syntax: Python uses indentation instead of brackets, making the code simple and easy to read.\n",
        "\n",
        "High-Level Language: You can focus on logic rather than memory management or system-level operations.\n",
        "\n",
        "Interpreted Language: Python executes code line-by-line, which helps in quick debugging.\n",
        "\n",
        "Dynamically Typed: You don’t need to declare the type of variable. Python detects it automatically.\n",
        "\n",
        "Object-Oriented: Supports concepts like classes, inheritance, and encapsulation for reusable and organized code.\n",
        "\n",
        "Extensive Standard Library: Comes with many built-in modules for tasks like file handling, math, networking, etc.\n",
        "\n",
        "Cross-Platform Compatibility: Python can run on Windows, macOS, and Linux without modification.\n",
        "\n",
        "Large Community Support: Strong support from developers, lots of tutorials and open-source tools.\n",
        "\n",
        "Versatile Applications: Used in web development, machine learning, AI, data science, scripting, game development, and more.\n",
        "\n",
        "\n",
        "\n",
        "\n",
        "\n",
        "2.Describe the role of predefined keywords in Python and provide examples of how they are used in a\n",
        "program\n",
        "\n",
        " - Predefined keywords are reserved words in Python that have a specific meaning and purpose in the language. These keywords cannot be used as variable names.\n",
        "\n",
        "Some common Python keywords: if, else, elif, for, while, def, class, import, return, try, except, etc.\n",
        "\n",
        "Example:\n"
      ],
      "metadata": {
        "id": "Y8gERHU_kXdA"
      }
    },
    {
      "cell_type": "code",
      "source": [
        "def greet(name):\n",
        "    if name:\n",
        "        return \"Hello, \" + name\n",
        "    else:\n",
        "        return \"Hello, Stranger\""
      ],
      "metadata": {
        "id": "Pw4n-io_nKlk"
      },
      "execution_count": null,
      "outputs": []
    },
    {
      "cell_type": "markdown",
      "source": [
        "here\n",
        "- def defines a function.\n",
        "- if and else are used for condition checking.\n",
        "- return gives back a value from the function."
      ],
      "metadata": {
        "id": "4kXF0ErGoGYy"
      }
    },
    {
      "cell_type": "markdown",
      "source": [
        "3.Compare and contrast mutable and immutable objects in Python with examples\n",
        "\n",
        "\n",
        " -\n",
        "Mutable objects: Their content can be changed after creation.\n",
        "Immutable objects: Once created, their content cannot be altered.\n"
      ],
      "metadata": {
        "id": "vFUJHv4PoyPr"
      }
    },
    {
      "cell_type": "markdown",
      "source": [
        "Mutable example:\n",
        "python"
      ],
      "metadata": {
        "id": "YO3qJ6jipz16"
      }
    },
    {
      "cell_type": "code",
      "source": [
        "my_list = [1, 2, 3]\n",
        "my_list.append(4)\n",
        "print(my_list)  # Output: [1, 2, 3, 4]"
      ],
      "metadata": {
        "id": "QNTBNuLspYqe"
      },
      "execution_count": null,
      "outputs": []
    },
    {
      "cell_type": "markdown",
      "source": [
        "immutable example:\n",
        "python"
      ],
      "metadata": {
        "id": "bzSEB3RSqFr-"
      }
    },
    {
      "cell_type": "code",
      "source": [
        "my_str = \"hello\"\n",
        "# my_str[0] = \"H\"  # Error: 'str' object does not support item assignment"
      ],
      "metadata": {
        "id": "su6WRH2Zmv03"
      },
      "execution_count": null,
      "outputs": []
    },
    {
      "cell_type": "markdown",
      "source": [
        "4.Discuss the different types of operators in Python and provide examples of how they are used\n",
        "\n",
        "-\n",
        "\n",
        "Python supports the following types of operators:\n",
        "\n",
        "Arithmetic Operators: +, -, *, /, %, //, **"
      ],
      "metadata": {
        "id": "rkXfCua5qRSQ"
      }
    },
    {
      "cell_type": "code",
      "source": [
        "print(5 + 2)  # Output: 7"
      ],
      "metadata": {
        "id": "xpJaWBCdqrqx"
      },
      "execution_count": null,
      "outputs": []
    },
    {
      "cell_type": "markdown",
      "source": [
        "Comparison Operators: ==, !=, >, <, >=, <="
      ],
      "metadata": {
        "id": "5DLV4r1Gq83S"
      }
    },
    {
      "cell_type": "code",
      "source": [
        "print(5 > 3)  # Output: True"
      ],
      "metadata": {
        "id": "2wekFtv5rLks"
      },
      "execution_count": null,
      "outputs": []
    },
    {
      "cell_type": "markdown",
      "source": [
        "Logical Operators: and, or, not"
      ],
      "metadata": {
        "id": "NqC0EvqKrg7Y"
      }
    },
    {
      "cell_type": "code",
      "source": [
        "print(True and False)  # Output: False"
      ],
      "metadata": {
        "id": "HC5wTXAdryUM"
      },
      "execution_count": null,
      "outputs": []
    },
    {
      "cell_type": "markdown",
      "source": [
        "Assignment Operators: =, +=, -=, *=, /=, etc."
      ],
      "metadata": {
        "id": "i0ZGhdFkr3BB"
      }
    },
    {
      "cell_type": "code",
      "source": [
        "x = 5\n",
        "x += 3\n",
        "print(x)  # Output: 8"
      ],
      "metadata": {
        "id": "wN6Sg65ysFEZ"
      },
      "execution_count": null,
      "outputs": []
    },
    {
      "cell_type": "markdown",
      "source": [
        "Bitwise Operators: &, |, ^, ~, <<, >>\n",
        "\n",
        "Membership Operators: in, not in"
      ],
      "metadata": {
        "id": "lz-K4MdFsJgA"
      }
    },
    {
      "cell_type": "code",
      "source": [
        "print(3 in [1, 2, 3])  # Output: True"
      ],
      "metadata": {
        "id": "vZfSPgv2sfPN"
      },
      "execution_count": null,
      "outputs": []
    },
    {
      "cell_type": "markdown",
      "source": [
        "Identity Operators: is, is not"
      ],
      "metadata": {
        "id": "UML1Wsiisqxc"
      }
    },
    {
      "cell_type": "code",
      "source": [
        "a = [1, 2]\n",
        "b = a\n",
        "print(a is b)  # Output: True"
      ],
      "metadata": {
        "id": "By7X1fodsu5R"
      },
      "execution_count": null,
      "outputs": []
    },
    {
      "cell_type": "markdown",
      "source": [
        "5. Explain the concept of type casting in Python with examples\n",
        "-\n",
        "\n",
        "Type casting is the process of converting the value of one data type to another.\n",
        "\n",
        "Examples:"
      ],
      "metadata": {
        "id": "NR0gcB7mszBV"
      }
    },
    {
      "cell_type": "code",
      "source": [
        "x = \"10\"\n",
        "y = int(x)  # Converts string to integer\n",
        "print(y)  # Output: 10\n",
        "\n",
        "a = 5\n",
        "b = float(a)  # Converts integer to float\n",
        "print(b)  # Output: 5.0"
      ],
      "metadata": {
        "id": "yrGuuj5StbUg"
      },
      "execution_count": null,
      "outputs": []
    },
    {
      "cell_type": "markdown",
      "source": [
        "Common type casting functions:\n",
        "\n",
        "int() – converts to integer\n",
        "\n",
        "float() – converts to float\n",
        "\n",
        "str() – converts to string\n",
        "\n",
        "list(), tuple(), set() – convert to respective data structures"
      ],
      "metadata": {
        "id": "EtrNYRwvtgOF"
      }
    },
    {
      "cell_type": "markdown",
      "source": [
        " 6. How do conditional statements work in Python? Illustrate with examples\n",
        "\n",
        "-\n",
        "\n",
        "Conditional statements allow us to execute certain parts of code based on a condition.\n",
        "\n",
        "Syntax:"
      ],
      "metadata": {
        "id": "7cC31iUBtnGm"
      }
    },
    {
      "cell_type": "code",
      "source": [
        "if condition:\n",
        "    # code block\n",
        "elif another_condition:\n",
        "    # another code block\n",
        "else:\n",
        "    # fallback code"
      ],
      "metadata": {
        "id": "eKLpx6UJuOQp"
      },
      "execution_count": null,
      "outputs": []
    },
    {
      "cell_type": "markdown",
      "source": [
        "Example:"
      ],
      "metadata": {
        "id": "KP5FlVVyuS70"
      }
    },
    {
      "cell_type": "code",
      "source": [
        "age = 18\n",
        "if age >= 18:\n",
        "    print(\"Eligible to vote\")\n",
        "else:\n",
        "    print(\"Not eligible\")"
      ],
      "metadata": {
        "id": "MBJT6mcFuXPn"
      },
      "execution_count": null,
      "outputs": []
    },
    {
      "cell_type": "markdown",
      "source": [
        " The if block runs if the condition is True. If not, elif is checked. If all conditions fail, the else block runs.\n",
        "\n",
        "\n",
        "---\n",
        "\n",
        "7. Describe the different types of loops in Python and their use cases with examples\n",
        "\n",
        "-\n",
        "\n",
        "Python has two main types of loops:\n",
        "\n",
        "1. for Loop\n",
        "\n",
        "Used to iterate over a sequence (like a list, tuple, string, or range).\n",
        "\n",
        "Example:"
      ],
      "metadata": {
        "id": "Z5ejgY19ucjz"
      }
    },
    {
      "cell_type": "code",
      "source": [
        "for i in range(5):\n",
        "    print(i)\n",
        "# Output: 0 1 2 3 4"
      ],
      "metadata": {
        "id": "x7y_GzbeuzuA"
      },
      "execution_count": null,
      "outputs": []
    },
    {
      "cell_type": "markdown",
      "source": [
        "2. while Loop\n",
        "\n",
        "Executes as long as a condition is True.\n",
        "\n",
        "Example:"
      ],
      "metadata": {
        "id": "-gO6M4qCvKc8"
      }
    },
    {
      "cell_type": "code",
      "source": [
        "i = 0\n",
        "while i < 5:\n",
        "    print(i)\n",
        "    i += 1\n",
        "# Output: 0 1 2 3 4"
      ],
      "metadata": {
        "id": "rcN9uSx9vKB3"
      },
      "execution_count": null,
      "outputs": []
    }
  ]
}